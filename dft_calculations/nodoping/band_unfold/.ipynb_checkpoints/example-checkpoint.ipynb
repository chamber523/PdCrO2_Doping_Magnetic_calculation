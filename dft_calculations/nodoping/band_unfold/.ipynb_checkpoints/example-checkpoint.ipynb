{
 "cells": [
  {
   "cell_type": "code",
   "execution_count": null,
   "id": "76ad1fdc-43c2-4602-a8a1-6c3948d1815c",
   "metadata": {},
   "outputs": [],
   "source": [
    "# NotImplemented\n",
    "M = [[ 0, -1, -1],\n",
    "     [-1,  0, -1],\n",
    "     [30 ,30,  0]]"
   ]
  },
  {
   "cell_type": "code",
   "execution_count": null,
   "id": "f8413617-e601-437d-9552-2e2f1899ad9f",
   "metadata": {},
   "outputs": [],
   "source": [
    "# NotImplemented\n",
    "high_symmetry_points = [\n",
    "    [0,0,0], # G\n",
    "    [0.0,0.0,0.5], # M\n",
    "    [0.375,0.375,0.5], # K\n",
    "    [0,0,0], # G\n",
    "]"
   ]
  },
  {
   "cell_type": "code",
   "execution_count": null,
   "id": "cc02664e-9a71-4eee-b2d1-0878e16e9c8e",
   "metadata": {},
   "outputs": [],
   "source": [
    "n_kpoints_each_path = 30"
   ]
  },
  {
   "cell_type": "code",
   "execution_count": null,
   "id": "ef73a661-23ae-4e10-bd86-53cc765a72c2",
   "metadata": {},
   "outputs": [],
   "source": [
    "from vaspvis.utils import generate_kpoints\n",
    "\n",
    "generate_kpoints(\n",
    "    M=M, # M can be generated with the convert slab function\n",
    "    high_symmetry_points=high_symmetry_points, # Special points\n",
    "    n=n_kpoints_each_path, # Number of segments between each special point  # NotImplemented\n",
    "    output=f\"input_111/KPOINTS_layers_{num_layers}_{Kpath}\"  # NotImplemented\n",
    ")"
   ]
  },
  {
   "cell_type": "markdown",
   "id": "f7277697-3b7c-4e53-abaf-1825bddceedc",
   "metadata": {},
   "source": [
    "Use this KPOINTS file to do NSCF"
   ]
  },
  {
   "cell_type": "code",
   "execution_count": null,
   "id": "93bdc859-7da0-42b9-9ca2-8d21626faeee",
   "metadata": {},
   "outputs": [],
   "source": [
    "fig, ax = st.band_plain(\n",
    "    folder=band_folder,  # NotImplemented\n",
    "    figsize=(2.5,2),\n",
    "    save=False,\n",
    "    erange=[-4,0.2],\n",
    "    color='red',\n",
    "    unfold=True,\n",
    "    kpath=[[r'\\Gamma', r'M'], [r'\\bar{\\Gamma}', r'\\bar{\\mathrm{K}}']],  # NotImplemented 3 slices\n",
    "    high_symm_points=high_symmetry_points,\n",
    "    n=n_kpoints_each_path,\n",
    "    M=M,\n",
    "    # output=os.path.join(band_folder, 'band_plain.png'),\n",
    "    # scale_factor=5,\n",
    "    interpolate=True\n",
    ")"
   ]
  },
  {
   "cell_type": "markdown",
   "id": "600b8b3f-34d0-40e0-bd79-f149d25932f6",
   "metadata": {},
   "source": [
    "Done"
   ]
  }
 ],
 "metadata": {
  "kernelspec": {
   "display_name": "Ogre-Z",
   "language": "python",
   "name": "ogre"
  },
  "language_info": {
   "codemirror_mode": {
    "name": "ipython",
    "version": 3
   },
   "file_extension": ".py",
   "mimetype": "text/x-python",
   "name": "python",
   "nbconvert_exporter": "python",
   "pygments_lexer": "ipython3",
   "version": "3.11.11"
  }
 },
 "nbformat": 4,
 "nbformat_minor": 5
}
